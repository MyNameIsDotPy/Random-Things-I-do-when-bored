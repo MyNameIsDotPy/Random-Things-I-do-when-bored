{
 "cells": [
  {
   "cell_type": "markdown",
   "id": "c85ee44d",
   "metadata": {},
   "source": [
    "# Import Libraries"
   ]
  },
  {
   "cell_type": "code",
   "execution_count": 936,
   "id": "e1d8a314",
   "metadata": {},
   "outputs": [],
   "source": [
    "import numpy as np\n",
    "import matplotlib.pyplot as plt\n",
    "import random\n",
    "%matplotlib inline"
   ]
  },
  {
   "cell_type": "markdown",
   "id": "a588c7ff",
   "metadata": {},
   "source": [
    "# Create a random Dataset"
   ]
  },
  {
   "cell_type": "code",
   "execution_count": 937,
   "id": "9955e697",
   "metadata": {},
   "outputs": [],
   "source": [
    "#Define the number of points\n",
    "k = 100\n",
    "x1 = [random.randrange(-20,21)/10 for _ in range(k)]\n",
    "x2 = [random.randrange(-20,21)/10 for _ in range(k)]\n",
    "x1 = np.array(x1)\n",
    "x2 = np.array(x2)"
   ]
  },
  {
   "cell_type": "code",
   "execution_count": 938,
   "id": "75acf042",
   "metadata": {},
   "outputs": [
    {
     "data": {
      "text/plain": [
       "[<matplotlib.lines.Line2D at 0x22850536430>]"
      ]
     },
     "execution_count": 938,
     "metadata": {},
     "output_type": "execute_result"
    },
    {
     "data": {
      "image/png": "[encoded data removed]",
      "text/plain": [
       "<Figure size 432x288 with 1 Axes>"
      ]
     },
     "metadata": {
      "needs_background": "light"
     },
     "output_type": "display_data"
    }
   ],
   "source": [
    "#Plot the random Dataset\n",
    "plt.plot(x1,x2,\"b+\")"
   ]
  },
  {
   "cell_type": "markdown",
   "id": "7a5b6e63",
   "metadata": {},
   "source": [
    "# Divide the dataset into 2 groups with a line"
   ]
  },
  {
   "cell_type": "code",
   "execution_count": 944,
   "id": "335991c7",
   "metadata": {},
   "outputs": [
    {
     "name": "stdout",
     "output_type": "stream",
     "text": [
      "m = 0.95\n",
      "b = 0.6\n"
     ]
    }
   ],
   "source": [
    "#m Is equal to the inclination of the line\n",
    "#b Is equal to the intercept in the Y axis\n",
    "m = random.randrange(-100,100)/100\n",
    "b = random.randrange(-100,100)/100\n",
    "print(f\"m = {m}\")\n",
    "print(f\"b = {b}\")\n",
    "def GraphSpaceWork(x1,x2):\n",
    "    x = np.arange(-2,3)\n",
    "    ax1 = []\n",
    "    ax2 = []\n",
    "    bx1 = []\n",
    "    bx2 = []\n",
    "    label = []\n",
    "    for i in range(len(x1)):\n",
    "        if x2[i] > x1[i]*m:\n",
    "            ax1.append(x1[i])\n",
    "            ax2.append(x2[i])\n",
    "            label.append(1)\n",
    "        else:\n",
    "            bx1.append(x1[i])\n",
    "            bx2.append(x2[i])\n",
    "            label.append(-1)\n",
    "\n",
    "    plt.xlim(-2,2)\n",
    "    plt.ylim(-2,2)\n",
    "    plt.plot(ax1,ax2, \"bo\", marker = \"$A$\")\n",
    "    plt.plot(bx1,bx2, \"ro\", marker = \"$B$\")\n",
    "    \n",
    "    \n",
    "    return (ax1,ax2,bx1,bx2,label)"
   ]
  },
  {
   "cell_type": "code",
   "execution_count": 945,
   "id": "c5a40f96",
   "metadata": {},
   "outputs": [
    {
     "data": {
      "image/png": "[encoded data removed]",
      "text/plain": [
       "<Figure size 432x288 with 1 Axes>"
      ]
     },
     "metadata": {
      "needs_background": "light"
     },
     "output_type": "display_data"
    }
   ],
   "source": [
    "label = GraphSpaceWork(x1,x2)\n",
    "#Set the labels\n",
    "label = label[-1]\n",
    "#print(label)\n",
    "#print(x1)"
   ]
  },
  {
   "cell_type": "markdown",
   "id": "42cccfd1",
   "metadata": {},
   "source": [
    "# Class Perceptron"
   ]
  },
  {
   "cell_type": "code",
   "execution_count": 946,
   "id": "8a93c92c",
   "metadata": {},
   "outputs": [],
   "source": [
    "class Perceptron():\n",
    "    def __init__(self,x1,x2,w1,w2,label,u):\n",
    "        self.x1 = x1\n",
    "        self.x2 = x2\n",
    "        self.w1 = w1\n",
    "        self.w2 = w2\n",
    "        self.u = u\n",
    "        self.label = label\n",
    "    \n",
    "    def Learn(self):\n",
    "        classif = []\n",
    "        #suma = sum(((self.w1*self.x1)+(self.w2*self.x2)))\n",
    "        #suma = 0\n",
    "        for i in range(len(self.x1)):\n",
    "            f = self.w1*self.x1[i] + self.w2*self.x2[i] + self.u\n",
    "            f = 1 if f > 0 else -1\n",
    "            #print(f)\n",
    "            #print(label[i])\n",
    "            classif.append(1 if f == label[i] else -1)\n",
    "        for i in range(len(classif)):\n",
    "            if classif[i] == -1:\n",
    "                self.w1 += self.label[i] * self.x1[i]\n",
    "                self.w2 += self.label[i] * self.x2[i]\n",
    "                self.u += self.label[i]\n",
    "        if sum(classif)/len(classif) == 1:\n",
    "            return 0\n",
    "        \n",
    "        \n",
    "    def Graph(self):\n",
    "        \n",
    "        \n",
    "        if self.w1 != 0:\n",
    "            b = -(self.u/self.w1)\n",
    "        else:\n",
    "            b = -self.u\n",
    "\n",
    "        m = -(self.w1/self.w2)\n",
    "        \n",
    "        x = np.arange(-2,3)\n",
    "        \n",
    "        GraphSpaceWork(self.x1,self.x2)\n",
    "        \n",
    "        plt.fill_between(x, (x*m) +b, 2, color='blue',alpha=0.3)\n",
    "        plt.fill_between(x, (x*m) +b, -2, color='red',alpha=0.3)\n",
    "        \n",
    "        \n",
    "        plt.show()\n",
    "        print(m)\n",
    "\n",
    "        \n",
    "        \n",
    "        \n",
    "    \n",
    "    \n",
    "        "
   ]
  },
  {
   "cell_type": "code",
   "execution_count": 947,
   "id": "b063058a",
   "metadata": {},
   "outputs": [],
   "source": [
    "#Create Object Perceptron\n",
    "a = Perceptron(x1,x2,random.randrange(10)/10,random.randrange(10)/10,label,0.5)"
   ]
  },
  {
   "cell_type": "code",
   "execution_count": 950,
   "id": "cd277f6e",
   "metadata": {},
   "outputs": [
    {
     "data": {
      "image/png": "[encoded data removed]",
      "text/plain": [
       "<Figure size 432x288 with 1 Axes>"
      ]
     },
     "metadata": {
      "needs_background": "light"
     },
     "output_type": "display_data"
    },
    {
     "name": "stdout",
     "output_type": "stream",
     "text": [
      "0.932562620423891\n",
      "Cheese\n"
     ]
    }
   ],
   "source": [
    "#Train the model\n",
    "while(True):\n",
    "    a.Graph()\n",
    "    if a.Learn() == 0:\n",
    "        break\n",
    "    \n",
    "    "
   ]
  },
  {
   "cell_type": "code",
   "execution_count": null,
   "id": "b2d4ae51",
   "metadata": {},
   "outputs": [],
   "source": []
  },
  {
   "cell_type": "code",
   "execution_count": null,
   "id": "169915f7",
   "metadata": {},
   "outputs": [],
   "source": []
  },
  {
   "cell_type": "code",
   "execution_count": null,
   "id": "1fa42fb6",
   "metadata": {},
   "outputs": [],
   "source": []
  },
  {
   "cell_type": "code",
   "execution_count": null,
   "id": "d02a9265",
   "metadata": {},
   "outputs": [],
   "source": []
  }
 ],
 "metadata": {
  "kernelspec": {
   "display_name": "Python 3",
   "language": "python",
   "name": "python3"
  },
  "language_info": {
   "codemirror_mode": {
    "name": "ipython",
    "version": 3
   },
   "file_extension": ".py",
   "mimetype": "text/x-python",
   "name": "python",
   "nbconvert_exporter": "python",
   "pygments_lexer": "ipython3",
   "version": "3.8.8"
  }
 },
 "nbformat": 4,
 "nbformat_minor": 5
}
